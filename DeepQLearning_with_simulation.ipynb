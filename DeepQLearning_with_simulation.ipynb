{
  "cells": [
    {
      "cell_type": "code",
      "execution_count": 1,
      "metadata": {
        "id": "oCnE56btJDrp"
      },
      "outputs": [],
      "source": [
        "import datetime\n",
        "import json\n",
        "import random\n",
        "import numpy as np\n",
        "import matplotlib.pyplot as plt\n",
        "from keras.models import Sequential\n",
        "from keras.layers.core import Dense\n",
        "from keras.layers.advanced_activations import PReLU\n",
        "import os\n",
        "os.environ['TF_CPP_MIN_LOG_LEVEL'] = '2'"
      ]
    },
    {
      "cell_type": "code",
      "execution_count": 2,
      "metadata": {
        "id": "2cAUBnVzhfco"
      },
      "outputs": [],
      "source": [
        "#create a user defined grid of size m*n\n",
        "def create_board(vertical,horizontal):\n",
        "    board = [[1 for column in range(vertical)] for  cell in range(horizontal)]\n",
        "    board = np.array(board)\n",
        "    return board"
      ]
    },
    {
      "cell_type": "code",
      "execution_count": 3,
      "metadata": {
        "colab": {
          "base_uri": "https://localhost:8080/"
        },
        "id": "CJaA2jC-hwrv",
        "outputId": "ea044673-b88b-452d-8bb0-7d4fa7deff46"
      },
      "outputs": [
        {
          "output_type": "execute_result",
          "data": {
            "text/plain": [
              "array([[1, 1, 1, 1],\n",
              "       [1, 1, 1, 1],\n",
              "       [1, 1, 1, 1],\n",
              "       [1, 1, 1, 1]])"
            ]
          },
          "metadata": {},
          "execution_count": 3
        }
      ],
      "source": [
        "board = create_board(4,4)\n",
        "board"
      ]
    },
    {
      "cell_type": "code",
      "execution_count": 4,
      "metadata": {
        "id": "AFcVEDxOhzf-"
      },
      "outputs": [],
      "source": [
        "#define random points for obstacles except start and end points\n",
        "def intialize_obstacles(start,end):\n",
        "    obstacles = []\n",
        "    limit = int((board.shape[0]*board.shape[1])/4)\n",
        "    count = 0\n",
        "    while(count!=limit):\n",
        "        ran = np.random.randint((board.shape[0]*board.shape[1]))\n",
        "        if(ran!=start and ran!=end and ran not in obstacles):\n",
        "            obstacles.append(ran)\n",
        "            count+=1\n",
        "        else:\n",
        "            continue\n",
        "    return obstacles"
      ]
    },
    {
      "cell_type": "code",
      "source": [
        ""
      ],
      "metadata": {
        "id": "clpBLhxdrau6"
      },
      "execution_count": null,
      "outputs": []
    },
    {
      "cell_type": "code",
      "execution_count": 5,
      "metadata": {
        "id": "vZ71mFu4h2Wi"
      },
      "outputs": [],
      "source": [
        "#position obstacles\n",
        "def position_obstacles(board,obstacles):\n",
        "    horizontal = board.shape[0]\n",
        "    vertical = board.shape[1]\n",
        "    board = board.flatten()\n",
        "    for i in obstacles:\n",
        "        board[i] = 0\n",
        "    board = np.reshape(board,(vertical,horizontal))\n",
        "    return board"
      ]
    },
    {
      "cell_type": "code",
      "execution_count": 6,
      "metadata": {
        "id": "7_8JAgvhh5Al"
      },
      "outputs": [],
      "source": [
        "def multiplyList(l,col,row) :\n",
        "    res = col*(l[0])+l[1]\n",
        "    return res"
      ]
    },
    {
      "cell_type": "code",
      "execution_count": 7,
      "metadata": {
        "id": "B1kAYvi5h7Pk"
      },
      "outputs": [],
      "source": [
        "start = [0,0]\n",
        "end = [3,3]\n",
        "\n",
        "vertical = 4\n",
        "horizontal = 4"
      ]
    },
    {
      "cell_type": "code",
      "execution_count": 8,
      "metadata": {
        "id": "y2x325sdmc-Y"
      },
      "outputs": [],
      "source": [
        "obstacles = intialize_obstacles(multiplyList(start,vertical,horizontal),multiplyList(end,vertical,horizontal))"
      ]
    },
    {
      "cell_type": "code",
      "execution_count": 9,
      "metadata": {
        "colab": {
          "base_uri": "https://localhost:8080/"
        },
        "id": "tJ5I8O9cmfVo",
        "outputId": "c16a5c25-9c32-4dfc-8038-e0e7dade491e"
      },
      "outputs": [
        {
          "output_type": "execute_result",
          "data": {
            "text/plain": [
              "array([[1., 1., 1., 1.],\n",
              "       [0., 1., 1., 0.],\n",
              "       [0., 1., 0., 1.],\n",
              "       [1., 1., 1., 1.]])"
            ]
          },
          "metadata": {},
          "execution_count": 9
        }
      ],
      "source": [
        "board_with_obstacles = position_obstacles(board,obstacles)\n",
        "board_with_obstacles = board_with_obstacles.astype(float)\n",
        "board_with_obstacles"
      ]
    },
    {
      "cell_type": "code",
      "source": [
        "#reward matrix\n",
        "rewards = np.full((horizontal,vertical),-100.)\n",
        "rewards[end[0],end[1]]= 100\n",
        "for i in range(len(board_with_obstacles)):\n",
        "    for j in range(len(board_with_obstacles[0])):\n",
        "        # print(i,j)\n",
        "        if(board_with_obstacles[i][j]==1 and rewards[i][j]!=100):\n",
        "            rewards[i][j]=-1\n",
        "\n",
        "len(board_with_obstacles),len(board_with_obstacles[0]),rewards[end[0],end[1]]"
      ],
      "metadata": {
        "colab": {
          "base_uri": "https://localhost:8080/"
        },
        "id": "-H0qXOaD0EFJ",
        "outputId": "e0ac569d-202d-4911-f66c-c3f899b43d25"
      },
      "execution_count": 60,
      "outputs": [
        {
          "output_type": "execute_result",
          "data": {
            "text/plain": [
              "(4, 4, 100.0)"
            ]
          },
          "metadata": {},
          "execution_count": 60
        }
      ]
    },
    {
      "cell_type": "code",
      "source": [
        "rewards"
      ],
      "metadata": {
        "colab": {
          "base_uri": "https://localhost:8080/"
        },
        "id": "B6LcWLWr0SIB",
        "outputId": "4eb0f1b8-509d-425e-8a8c-3ef76aeba512"
      },
      "execution_count": 61,
      "outputs": [
        {
          "output_type": "execute_result",
          "data": {
            "text/plain": [
              "array([[  -1.,   -1.,   -1.,   -1.],\n",
              "       [-100.,   -1.,   -1., -100.],\n",
              "       [-100.,   -1., -100.,   -1.],\n",
              "       [  -1.,   -1.,   -1.,  100.]])"
            ]
          },
          "metadata": {},
          "execution_count": 61
        }
      ]
    },
    {
      "cell_type": "code",
      "execution_count": 10,
      "metadata": {
        "id": "GR1888dkKQfd"
      },
      "outputs": [],
      "source": [
        "# def take_action():\n",
        "#     LEFT = 0\n",
        "#     UP = 1\n",
        "#     RIGHT = 2\n",
        "#     DOWN = 3\n",
        "#     return {LEFT: 'left',UP: 'up',RIGHT: 'right',DOWN: 'down',}\n"
      ]
    },
    {
      "cell_type": "code",
      "execution_count": 11,
      "metadata": {
        "id": "eemaR4E_KQjO"
      },
      "outputs": [],
      "source": [
        "class Grid_object(object):\n",
        "    def __init__(self,grid, start_pos=(start[0], start[1])):\n",
        "        self.grid = np.array(grid)\n",
        "        horizontal, vertical = self.grid.shape\n",
        "        self.target = (end[0], end[1])\n",
        "        self.paths = [(r, c) for r in range(horizontal)\n",
        "                      for c in range(vertical) if self.grid[r, c] == 1.0]\n",
        "        self.paths.remove(self.target)\n",
        "        self.Grid_reset(start_pos)\n",
        "\n",
        "    def Grid_reset(self, pos):\n",
        "        self.pos = pos\n",
        "        self.grid = np.copy(self.grid)\n",
        "        horizontal, vertical = self.grid.shape\n",
        "        row, col = pos\n",
        "        self.grid[row, col] = 0.5\n",
        "        self.state = (row, col, 'start')\n",
        "        self.min_reward = -0.5 * self.grid.size\n",
        "        self.total_reward = 0\n",
        "        self.visited = set()\n",
        "\n",
        "    def UpdateState(self, action):\n",
        "        horizontal, vertical = self.grid.shape\n",
        "        horizontal, vertical, nmode = pos_row, pos_col, mode = self.state\n",
        "        if self.grid[pos_row, pos_col] > 0.0:\n",
        "            self.visited.add((pos_row, pos_col))\n",
        "        valid_actions = self.valid_actions()\n",
        "        if not valid_actions:\n",
        "            nmode = 'blocked'\n",
        "        elif action in valid_actions:\n",
        "            nmode = 'valid'\n",
        "            if action == 0:\n",
        "                vertical -= 1\n",
        "            elif action == 1:\n",
        "                horizontal -= 1\n",
        "            if action == 2:\n",
        "                vertical += 1\n",
        "            elif action == 3:\n",
        "                horizontal += 1\n",
        "        else:\n",
        "            nmode = 'invalid'\n",
        "        self.state = (horizontal, vertical, nmode)\n",
        "\n",
        "    def get_reward(self):\n",
        "        pos_row, pos_col, mode = self.state\n",
        "        horizontal, vertical = self.grid.shape\n",
        "        if pos_row == end[0] and pos_col == end[1]:\n",
        "            return 1.0\n",
        "        if mode == 'blocked':\n",
        "            return self.min_reward - 1\n",
        "        if (pos_row, pos_col) in self.visited:\n",
        "            return -0.25\n",
        "        if mode == 'invalid':\n",
        "            return -0.75\n",
        "        if mode == 'valid':\n",
        "            return -0.04\n",
        "\n",
        "    def act(self, action):\n",
        "        self.UpdateState(action)\n",
        "        reward = self.get_reward()\n",
        "        self.total_reward += reward\n",
        "        status = self.game_status()\n",
        "        envstate = self.observe()\n",
        "        return envstate, reward, status\n",
        "\n",
        "    def observe(self):\n",
        "        canvas = self.draw_env()\n",
        "        envstate = canvas.reshape((1, -1))\n",
        "        return envstate\n",
        "\n",
        "    def draw_env(self):\n",
        "        canvas = np.copy(self.grid)\n",
        "        horizontal, vertical = self.grid.shape\n",
        "        for r in range(horizontal):\n",
        "            for c in range(vertical):\n",
        "                if canvas[r, c] > 0.0:\n",
        "                    canvas[r, c] = 1.0\n",
        "        row, col, valid = self.state\n",
        "        canvas[row, col] = 0.5\n",
        "        return canvas\n",
        "\n",
        "    def game_status(self):\n",
        "        if self.total_reward < self.min_reward:\n",
        "            return 'lose'\n",
        "        pos_row, pos_col, mode = self.state\n",
        "        horizontal, vertical = self.grid.shape\n",
        "        if pos_row == horizontal - 1 and pos_col == vertical - 1:\n",
        "            return 'win'\n",
        "        return 'not_over'\n",
        "\n",
        "    def valid_actions(self, cell=None):\n",
        "        if cell is None:\n",
        "            row, col, mode = self.state\n",
        "        else:\n",
        "            row, col = cell\n",
        "        actions = [0, 1, 2, 3]\n",
        "        horizontal, vertical = self.grid.shape\n",
        "        if row == 0:\n",
        "            actions.remove(1)\n",
        "        elif row == horizontal - 1:\n",
        "            actions.remove(3)\n",
        "        if col == 0:\n",
        "            actions.remove(0)\n",
        "        elif col == vertical - 1:\n",
        "            actions.remove(2)\n",
        "        if row > 0 and self.grid[row - 1, col] == 0.0:\n",
        "            actions.remove(1)\n",
        "        if row < horizontal - 1 and self.grid[row + 1, col] == 0.0:\n",
        "            actions.remove(3)\n",
        "        if col > 0 and self.grid[row, col - 1] == 0:\n",
        "            actions.remove(0)\n",
        "        if col < vertical - 1 and self.grid[row, col + 1] == 0.0:\n",
        "            actions.remove(2)\n",
        "        return actions\n"
      ]
    },
    {
      "cell_type": "code",
      "execution_count": 12,
      "metadata": {
        "id": "-NZF8c-LKQpW"
      },
      "outputs": [],
      "source": [
        "def arrow_position(location, arrow_direction):\n",
        "    if arrow_direction == 'UP':\n",
        "        correction = (.5, .3)\n",
        "    elif arrow_direction == 'DOWN':\n",
        "        correction = (.6, .3)\n",
        "    elif arrow_direction == 'RIGHT':\n",
        "        correction = (.4, .5)\n",
        "    elif arrow_direction == 'LEFT':\n",
        "        correction = (.6, .5)\n",
        "    return (location[0]+correction[0],\n",
        "            location[1]+correction[1])\n",
        "def show(grid_object):\n",
        "    plt.grid('on')\n",
        "    horizontal, vertical = grid_object.grid.shape\n",
        "    ax = plt.gca()\n",
        "    ax.set_xticks(np.arange(0.5, horizontal, 1))\n",
        "    ax.set_yticks(np.arange(0.5, vertical, 1))\n",
        "    ax.set_xticklabels([])\n",
        "    ax.set_yticklabels([])\n",
        "    canvas = np.copy(grid_object.grid)\n",
        "    for row, col in grid_object.visited:\n",
        "        canvas[row, col] = 0.6\n",
        "    current_row, current_column, _ = grid_object.state\n",
        "    canvas[current_row, current_column] = 0.3\n",
        "    canvas[end[0], end[1]] = 0.9\n",
        "    img = plt.imshow(canvas, interpolation='none', cmap=plt.cm.hot)\n",
        "    plt.show()\n",
        "    return img\n"
      ]
    },
    {
      "cell_type": "code",
      "execution_count": 13,
      "metadata": {
        "id": "If177xSUKQsP"
      },
      "outputs": [],
      "source": [
        "\n",
        "def solve_grid(model, grid_object, pos, show_maze=False):\n",
        "    action_lst = []\n",
        "    grid_object.Grid_reset(pos)\n",
        "    envstate = grid_object.observe()\n",
        "    while True:\n",
        "        prev_envstate = envstate\n",
        "        q = model.predict(prev_envstate)\n",
        "        action = np.argmax(q[0])\n",
        "        action_lst.append(action)\n",
        "        print(action_lst)\n",
        "        envstate, reward, game_status = grid_object.act(action)\n",
        "        if game_status == 'win':\n",
        "            if show_maze:\n",
        "                show(grid_object)\n",
        "            return True,action_lst\n",
        "        elif game_status == 'lose':\n",
        "            if show_maze:\n",
        "                show(grid_object)\n",
        "            return False"
      ]
    },
    {
      "cell_type": "code",
      "execution_count": 14,
      "metadata": {
        "id": "KO6Li8MvKjfe"
      },
      "outputs": [],
      "source": [
        "def completion_check(model, grid_object):\n",
        "    for cell in grid_object.paths:\n",
        "        if not grid_object.valid_actions(cell):\n",
        "            return False\n",
        "        if not solve_grid(model, grid_object, cell):\n",
        "            return False\n",
        "    return True"
      ]
    },
    {
      "cell_type": "code",
      "execution_count": 15,
      "metadata": {
        "id": "M43lAoIdKjiT"
      },
      "outputs": [],
      "source": [
        "class Experience(object):\n",
        "\n",
        "    def __init__(self, model, max_memory=100, discount=0.95):\n",
        "        self.model = model\n",
        "        self.max_memory = max_memory\n",
        "        self.discount = discount\n",
        "        self.memory = list()\n",
        "        self.num_actions = model.output_shape[-1]\n",
        "\n",
        "    def save_memory(self, episode):\n",
        "        self.memory.append(episode)\n",
        "        if len(self.memory) > self.max_memory:\n",
        "            del self.memory[0]\n",
        "\n",
        "    def predict(self, envstate):\n",
        "        return self.model.predict(envstate)[0]\n",
        "\n",
        "    def get_data(self, data_size=10):\n",
        "        env_size = self.memory[0][0].shape[1]\n",
        "        mem_size = len(self.memory)\n",
        "        data_size = min(mem_size, data_size)\n",
        "        inputs = np.zeros((data_size, env_size))\n",
        "        targets = np.zeros((data_size, self.num_actions))\n",
        "        for i, j in enumerate(np.random.choice(range(mem_size), data_size,\n",
        "                                               replace=False)):\n",
        "            envstate, action, reward, envstate_next, game_over = self.memory[j]\n",
        "            inputs[i] = envstate\n",
        "            targets[i] = self.predict(envstate)\n",
        "            Q_sa = np.max(self.predict(envstate_next))\n",
        "            if game_over:\n",
        "                targets[i, action] = reward\n",
        "            else:\n",
        "                targets[i, action] = reward + self.discount * Q_sa\n",
        "        return inputs, targets"
      ]
    },
    {
      "cell_type": "code",
      "execution_count": 16,
      "metadata": {
        "id": "smJYkzD1KjlC"
      },
      "outputs": [],
      "source": [
        "def qtrain(model, grid, epsilon=0.1, **opt):\n",
        "    n_epoch = opt.get('n_epoch', 1000)\n",
        "    max_memory = opt.get('max_memory', 1000)\n",
        "    data_size = opt.get('data_size', 50)\n",
        "    weights_file = opt.get('weights_file', \"model.h5\")\n",
        "    name = opt.get('name', 'model')\n",
        "    start_time = datetime.datetime.now()\n",
        "    if weights_file:\n",
        "        try:\n",
        "            print(\"loading weights from file: %s\" % (weights_file,))\n",
        "            model.load_weights(weights_file)\n",
        "        except ValueError:\n",
        "            print(\"Incompatible model - starting from new model.\")\n",
        "            pass\n",
        "        except OSError:\n",
        "            print(\"Model does not exist - starting from new model.\")\n",
        "            pass\n",
        "    h5file = name + \".h5\"\n",
        "    json_file = name + \".json\"\n",
        "    grid_object = Grid_object(grid)\n",
        "    experience = Experience(model, max_memory=max_memory)\n",
        "    win_history = []\n",
        "    hsize = grid_object.grid.size // 2\n",
        "    win_rate = 0.0\n",
        "    for epoch in range(n_epoch):\n",
        "        loss = 0.0\n",
        "        pos = random.choice(grid_object.paths)\n",
        "        grid_object.Grid_reset(pos)\n",
        "        game_over = False\n",
        "        envstate = grid_object.observe()\n",
        "        n_episodes = 0\n",
        "        while not game_over:\n",
        "            valid_actions = grid_object.valid_actions()\n",
        "            if not valid_actions:\n",
        "                break\n",
        "            prev_envstate = envstate\n",
        "            if np.random.rand() < epsilon:\n",
        "                action = random.choice(valid_actions)\n",
        "            else:\n",
        "                action = np.argmax(experience.predict(prev_envstate))\n",
        "            envstate, reward, game_status = grid_object.act(action)\n",
        "            if game_status == 'win':\n",
        "                win_history.append(1)\n",
        "                game_over = True\n",
        "            elif game_status == 'lose':\n",
        "                win_history.append(0)\n",
        "                game_over = True\n",
        "            else:\n",
        "                game_over = False\n",
        "            episode = [prev_envstate, action, reward, envstate, game_over]\n",
        "            experience.save_memory(episode)\n",
        "            n_episodes += 1\n",
        "            inputs, targets = experience.get_data(data_size=data_size)\n",
        "            model.fit(inputs, targets, epochs=8, batch_size=16, verbose=0)\n",
        "            loss = model.evaluate(inputs, targets, verbose=0)\n",
        "        model.save_weights(h5file, overwrite=True)\n",
        "        with open(json_file, \"w\") as outfile:\n",
        "            json.dump(model.to_json(), outfile)\n",
        "        if len(win_history) > hsize:\n",
        "            win_rate = sum(win_history[-hsize:]) / hsize\n",
        "        dt = datetime.datetime.now() - start_time\n",
        "        t = format_time(dt.total_seconds())\n",
        "        template = \"Epoch: {:03d}/{:d} | Loss: {:.4f} | Episodes: {:d} | Win count: {:d} | Win rate: {:.3f} | Time: {}\"\n",
        "        print(template.format(epoch, n_epoch - 1, loss,\n",
        "                              n_episodes, sum(win_history), win_rate, t))\n",
        "        if win_rate > 0.9:\n",
        "            epsilon = 0.05\n",
        "        if sum(win_history[-hsize:]) == hsize and completion_check(model,\n",
        "                                                                   grid_object):\n",
        "            print(\"Reached 100%% win rate at epoch: %d\" % (epoch,))\n",
        "            break\n",
        "    model.save_weights(h5file, overwrite=True)\n",
        "    with open(json_file, \"w\") as outfile:\n",
        "        json.dump(model.to_json(), outfile)\n",
        "    dt = datetime.datetime.now() - start_time\n",
        "    seconds = dt.total_seconds()\n",
        "    t = format_time(seconds)\n",
        "    print('files: %s, %s' % (h5file, json_file))\n",
        "    print(\"n_epoch: %d, max_mem: %d, data: %d, time: %s\" %\n",
        "          (epoch, max_memory, data_size, t))\n",
        "    return seconds\n"
      ]
    },
    {
      "cell_type": "code",
      "execution_count": 17,
      "metadata": {
        "id": "Qp172GgRKjnr"
      },
      "outputs": [],
      "source": [
        "def format_time(seconds):\n",
        "    if seconds < 400:\n",
        "        s = float(seconds)\n",
        "        return \"%.1f seconds\" % (s,)\n",
        "    elif seconds < 4000:\n",
        "        m = seconds / 60.0\n",
        "        return \"%.2f minutes\" % (m,)\n",
        "    else:\n",
        "        h = seconds / 3600.0\n",
        "        return \"%.2f hours\" % (h,)\n"
      ]
    },
    {
      "cell_type": "code",
      "execution_count": 18,
      "metadata": {
        "id": "dZqlsg8tKjqR"
      },
      "outputs": [],
      "source": [
        "def deep_q_model(grid):\n",
        "    model = Sequential()\n",
        "    model.add(Dense(grid.size, input_shape=(grid.size,)))\n",
        "    model.add(PReLU())\n",
        "    model.add(Dense(64))\n",
        "    model.add(PReLU())\n",
        "    model.add(Dense(16))\n",
        "    model.add(PReLU())\n",
        "    model.add(Dense(4))\n",
        "    model.compile(optimizer='adam', loss='mse')\n",
        "    return model"
      ]
    },
    {
      "cell_type": "code",
      "execution_count": 19,
      "metadata": {
        "id": "SQtcfKi3vW46"
      },
      "outputs": [],
      "source": [
        "grid = board_with_obstacles"
      ]
    },
    {
      "cell_type": "code",
      "execution_count": 20,
      "metadata": {
        "colab": {
          "base_uri": "https://localhost:8080/",
          "height": 1000
        },
        "id": "QUZnWQVoKsVS",
        "outputId": "4bcf6df2-a7bc-4fd5-8051-c9e4d83d438b"
      },
      "outputs": [
        {
          "output_type": "stream",
          "name": "stdout",
          "text": [
            "loading weights from file: model.h5\n",
            "Epoch: 000/999 | Loss: 0.0245 | Episodes: 37 | Win count: 0 | Win rate: 0.000 | Time: 58.8 seconds\n",
            "Epoch: 001/999 | Loss: 0.0770 | Episodes: 1 | Win count: 1 | Win rate: 0.000 | Time: 61.6 seconds\n",
            "Epoch: 002/999 | Loss: 0.1147 | Episodes: 1 | Win count: 2 | Win rate: 0.000 | Time: 64.5 seconds\n",
            "Epoch: 003/999 | Loss: 0.0110 | Episodes: 36 | Win count: 2 | Win rate: 0.000 | Time: 193.6 seconds\n",
            "Epoch: 004/999 | Loss: 0.0099 | Episodes: 36 | Win count: 2 | Win rate: 0.000 | Time: 329.8 seconds\n",
            "Epoch: 005/999 | Loss: 0.0018 | Episodes: 34 | Win count: 2 | Win rate: 0.000 | Time: 7.70 minutes\n",
            "Epoch: 006/999 | Loss: 0.0158 | Episodes: 36 | Win count: 2 | Win rate: 0.000 | Time: 10.00 minutes\n",
            "Epoch: 007/999 | Loss: 0.0570 | Episodes: 9 | Win count: 3 | Win rate: 0.000 | Time: 10.60 minutes\n",
            "Epoch: 008/999 | Loss: 0.0414 | Episodes: 26 | Win count: 4 | Win rate: 0.500 | Time: 12.27 minutes\n",
            "Epoch: 009/999 | Loss: 0.0298 | Episodes: 11 | Win count: 5 | Win rate: 0.500 | Time: 12.99 minutes\n",
            "Epoch: 010/999 | Loss: 0.0475 | Episodes: 2 | Win count: 6 | Win rate: 0.500 | Time: 13.12 minutes\n",
            "Epoch: 011/999 | Loss: 0.0336 | Episodes: 1 | Win count: 7 | Win rate: 0.625 | Time: 13.18 minutes\n",
            "Epoch: 012/999 | Loss: 0.0100 | Episodes: 2 | Win count: 8 | Win rate: 0.750 | Time: 13.32 minutes\n",
            "Epoch: 013/999 | Loss: 0.0598 | Episodes: 7 | Win count: 9 | Win rate: 0.875 | Time: 13.76 minutes\n",
            "Epoch: 014/999 | Loss: 0.0200 | Episodes: 5 | Win count: 10 | Win rate: 1.000 | Time: 14.08 minutes\n",
            "[2]\n",
            "[2, 3]\n",
            "[2, 3, 3]\n",
            "[2, 3, 3, 3]\n",
            "[2, 3, 3, 3, 2]\n",
            "[2, 3, 3, 3, 2, 2]\n",
            "[3]\n",
            "[3, 3]\n",
            "[3, 3, 3]\n",
            "[3, 3, 3, 2]\n",
            "[3, 3, 3, 2, 2]\n",
            "[0]\n",
            "[0, 3]\n",
            "[0, 3, 3]\n",
            "[0, 3, 3, 3]\n",
            "[0, 3, 3, 3, 2]\n",
            "[0, 3, 3, 3, 2, 2]\n",
            "[0]\n",
            "[0, 0]\n",
            "[0, 0, 3]\n",
            "[0, 0, 3, 3]\n",
            "[0, 0, 3, 3, 3]\n",
            "[0, 0, 3, 3, 3, 2]\n",
            "[0, 0, 3, 3, 3, 2, 2]\n",
            "[3]\n",
            "[3, 3]\n",
            "[3, 3, 2]\n",
            "[3, 3, 2, 2]\n",
            "[0]\n",
            "[0, 3]\n",
            "[0, 3, 3]\n",
            "[0, 3, 3, 2]\n",
            "[0, 3, 3, 2, 2]\n",
            "[3]\n",
            "[3, 2]\n",
            "[3, 2, 2]\n",
            "[3]\n",
            "[2]\n",
            "[2, 2]\n",
            "[2, 2, 2]\n",
            "[2]\n",
            "[2, 2]\n",
            "[2]\n",
            "Reached 100% win rate at epoch: 14\n",
            "files: model.h5, model.json\n",
            "n_epoch: 14, max_mem: 1000, data: 50, time: 14.12 minutes\n",
            "[2]\n",
            "[2, 3]\n",
            "[2, 3, 3]\n",
            "[2, 3, 3, 3]\n",
            "[2, 3, 3, 3, 2]\n",
            "[2, 3, 3, 3, 2, 2]\n"
          ]
        },
        {
          "output_type": "display_data",
          "data": {
            "text/plain": [
              "<Figure size 432x288 with 1 Axes>"
            ],
            "image/png": "[encoded data removed]"
          },
          "metadata": {
            "needs_background": "light"
          }
        }
      ],
      "source": [
        "model = deep_q_model(grid)\n",
        "qtrain(model, grid)\n",
        "_,action_lst = solve_grid(model, Grid_object(grid), (start[0], start[1]), show_maze=True)"
      ]
    },
    {
      "cell_type": "code",
      "source": [
        "print(action_lst)"
      ],
      "metadata": {
        "colab": {
          "base_uri": "https://localhost:8080/"
        },
        "id": "NETBjlidV7ly",
        "outputId": "c0557768-99db-4355-f18d-1d8d52bce5b4"
      },
      "execution_count": 30,
      "outputs": [
        {
          "output_type": "stream",
          "name": "stdout",
          "text": [
            "[2, 3, 3, 3, 2, 2]\n"
          ]
        }
      ]
    },
    {
      "cell_type": "code",
      "source": [
        "def make_path(start,action_lst):\n",
        "  path = []\n",
        "  current_cell = start\n",
        "  current_cell_new = start\n",
        "  print(current_cell)\n",
        "  for i in range(len(action_lst)):\n",
        "    current_cell = current_cell_new\n",
        "    if(action_lst[i]==0):\n",
        "      current_cell_new = [current_cell[0],current_cell[1]-1]\n",
        "      print(current_cell_new)\n",
        "      path.append(current_cell_new)\n",
        "    elif(action_lst[i]==1):\n",
        "      current_cell_new = [current_cell[0]-1,current_cell[1]]\n",
        "      print(current_cell_new)\n",
        "      path.append(current_cell_new)\n",
        "    elif(action_lst[i]==2):\n",
        "      current_cell_new = [current_cell[0],current_cell[1]+1]\n",
        "      print(current_cell_new)\n",
        "      path.append(current_cell_new)\n",
        "    else:\n",
        "      current_cell_new = [current_cell[0]+1,current_cell[1]]\n",
        "      print(current_cell_new)\n",
        "      path.append(current_cell_new)\n",
        "  return path\n",
        "\n",
        "\n",
        "\n",
        "  "
      ],
      "metadata": {
        "id": "S79bbV50r2Jq"
      },
      "execution_count": 48,
      "outputs": []
    },
    {
      "cell_type": "code",
      "source": [
        "list1 = make_path([0,0],action_lst)"
      ],
      "metadata": {
        "colab": {
          "base_uri": "https://localhost:8080/"
        },
        "id": "LJQmS38MuuHp",
        "outputId": "21195117-b5ab-4c54-dddb-67024d372e03"
      },
      "execution_count": 51,
      "outputs": [
        {
          "output_type": "stream",
          "name": "stdout",
          "text": [
            "[0, 0]\n",
            "[0, 1]\n",
            "[1, 1]\n",
            "[2, 1]\n",
            "[3, 1]\n",
            "[3, 2]\n",
            "[3, 3]\n"
          ]
        }
      ]
    },
    {
      "cell_type": "code",
      "source": [
        "list1.insert(0,[0,0])\n"
      ],
      "metadata": {
        "id": "rewpayNBu0Z_"
      },
      "execution_count": 53,
      "outputs": []
    },
    {
      "cell_type": "code",
      "source": [
        "list1"
      ],
      "metadata": {
        "colab": {
          "base_uri": "https://localhost:8080/"
        },
        "id": "BXkeorrxzIPr",
        "outputId": "ec8e1e50-8091-4da7-9a1c-f5dc5220d710"
      },
      "execution_count": 54,
      "outputs": [
        {
          "output_type": "execute_result",
          "data": {
            "text/plain": [
              "[[0, 0], [0, 1], [1, 1], [2, 1], [3, 1], [3, 2], [3, 3]]"
            ]
          },
          "metadata": {},
          "execution_count": 54
        }
      ]
    },
    {
      "cell_type": "code",
      "source": [
        "action_direction = dict()\n",
        "for i in range(len(list1)-1):\n",
        "  if(list1[i][0] - list1[i+1][0] == -1):\n",
        "    action_direction[(list1[i][0],list1[i][1])] = \"LEFT\"\n",
        "  elif(list1[i][0] - list1[i+1][0] == 1):\n",
        "    action_direction[(list1[i][0],list1[i][1])] = \"RIGHT\"\n",
        "  elif(list1[i][1] - list1[i+1][1] == -1):\n",
        "    action_direction[(list1[i][0],list1[i][1])] = \"UP\"\n",
        "  elif(list1[i][1] - list1[i+1][1] == 1):\n",
        "    action_direction[(list1[i][0],list1[i][1])] = \"DOWN\""
      ],
      "metadata": {
        "id": "bddYeN6fzodS"
      },
      "execution_count": 55,
      "outputs": []
    },
    {
      "cell_type": "code",
      "source": [
        "action_direction"
      ],
      "metadata": {
        "colab": {
          "base_uri": "https://localhost:8080/"
        },
        "id": "YZKWXkBOzsjI",
        "outputId": "839c64c7-8740-42cf-b938-8560a9a7335c"
      },
      "execution_count": 56,
      "outputs": [
        {
          "output_type": "execute_result",
          "data": {
            "text/plain": [
              "{(0, 0): 'UP',\n",
              " (0, 1): 'LEFT',\n",
              " (1, 1): 'LEFT',\n",
              " (2, 1): 'LEFT',\n",
              " (3, 1): 'UP',\n",
              " (3, 2): 'UP'}"
            ]
          },
          "metadata": {},
          "execution_count": 56
        }
      ]
    },
    {
      "cell_type": "code",
      "source": [
        "direction_map = {\n",
        "    'UP'   : ( 0, 1),\n",
        "    'DOWN' : ( 0,-1),\n",
        "    'RIGHT': ( 1, 0),\n",
        "    'LEFT' : (-1, 0)\n",
        "}"
      ],
      "metadata": {
        "id": "3jKXIEkizuQu"
      },
      "execution_count": 57,
      "outputs": []
    },
    {
      "cell_type": "code",
      "source": [
        "import matplotlib.pyplot as plt\n",
        "\n",
        "def arrow_position(location, arrow_direction):\n",
        "    if arrow_direction == 'UP':\n",
        "        correction = (.5, .3)\n",
        "    elif arrow_direction == 'DOWN':\n",
        "        correction = (.6, .3)\n",
        "    elif arrow_direction == 'RIGHT':\n",
        "        correction = (.4, .5)\n",
        "    elif arrow_direction == 'LEFT':\n",
        "        correction = (.6, .5)\n",
        "    return (location[0]+correction[0],\n",
        "            location[1]+correction[1])\n",
        "fig, ax = plt.subplots()\n",
        "plt.xlim(0,horizontal)\n",
        "plt.ylim(vertical,0)\n",
        "plt.pcolormesh(rewards,edgecolor='b',cmap=plt.cm.hot)\n",
        "# plt.grid(True)\n",
        "plt.xticks(np.arange(0, horizontal, 1.0))\n",
        "plt.yticks(np.arange(0, vertical, 1.0))\n",
        "\n",
        "locations = action_direction.keys()\n",
        "for location in locations:\n",
        "    arrow_direction = action_direction[location]\n",
        "    x_pos, y_pos = arrow_position(location, arrow_direction)\n",
        "    x_direct, y_direct = direction_map[arrow_direction]\n",
        "    ax.quiver(\n",
        "        y_pos,x_pos,\n",
        "        y_direct,x_direct,\n",
        "        scale=30)\n",
        "\n",
        "plt.show()"
      ],
      "metadata": {
        "colab": {
          "base_uri": "https://localhost:8080/",
          "height": 269
        },
        "id": "MmTHH-HzzwZK",
        "outputId": "805816c0-d04c-4b79-d5bd-c6086bc00af0"
      },
      "execution_count": 63,
      "outputs": [
        {
          "output_type": "display_data",
          "data": {
            "text/plain": [
              "<Figure size 432x288 with 1 Axes>"
            ],
            "image/png": "[encoded data removed]"
          },
          "metadata": {
            "needs_background": "light"
          }
        }
      ]
    }
  ],
  "metadata": {
    "colab": {
      "collapsed_sections": [],
      "name": "DeepQLearning_with_simulation.ipynb",
      "provenance": [],
      "machine_shape": "hm"
    },
    "kernelspec": {
      "display_name": "Python 3",
      "language": "python",
      "name": "python3"
    },
    "language_info": {
      "codemirror_mode": {
        "name": "ipython",
        "version": 3
      },
      "file_extension": ".py",
      "mimetype": "text/x-python",
      "name": "python",
      "nbconvert_exporter": "python",
      "pygments_lexer": "ipython3",
      "version": "3.7.6"
    },
    "accelerator": "GPU"
  },
  "nbformat": 4,
  "nbformat_minor": 0
}